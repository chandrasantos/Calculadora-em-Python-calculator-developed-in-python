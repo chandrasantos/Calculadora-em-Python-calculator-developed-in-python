{
 "cells": [
  {
   "cell_type": "markdown",
   "id": "71c0eb98",
   "metadata": {},
   "source": [
    "# <p style=\"color:#FF1493; background-color:#1C1C1C\">Propósito do Desafio é criar uma calculadora em Python</p>\n",
    "\n",
    "\n",
    "## <p style=\"color:#DC143C\">O que ela deve fazer?</p>\n",
    "\n",
    "<b> Sequência do Algoritmo </b>\n",
    "\n",
    "Dar boas-vindas ao usuário e pedir para ele escolher uma das quatro operações básicas de matemática:\n",
    "\n",
    "1- Soma\n",
    "\n",
    "2- Subtração\n",
    "\n",
    "3- Multiplicação\n",
    "\n",
    "4- Divisão\n",
    "\n",
    "\n",
    "Em seguida, o usuário precisará digitar o primeiro número. \n",
    "\n",
    "Em seguida, o usuário precisará digitar o segundo número. \n",
    "\n",
    "A calculadora retornará com o resultado. \n",
    "\n",
    "Caso o usuário digite uma operação matemática não listada, deve retornar mensagem de erro."
   ]
  },
  {
   "cell_type": "code",
   "execution_count": 13,
   "id": "395ca313",
   "metadata": {},
   "outputs": [
    {
     "name": "stdout",
     "output_type": "stream",
     "text": [
      "Bem-Vindo! Obrigada por usar a calculadora da Chandra :D Volte sempre!\n",
      "Escolha uma das opções abaixo:\n",
      "[1]soma [2]subtração [3]multiplicação [4]divisão\n",
      "Digite a opção (1,2,3,4):1\n",
      "Digite o primeiro número:56\n",
      "Digite o segundo número:89\n",
      "145\n"
     ]
    }
   ],
   "source": [
    "print ('Bem-Vindo! Obrigada por usar a calculadora da Chandra :D Volte sempre!')\n",
    "print ('Escolha uma das opções abaixo:')\n",
    "print ('[1]soma','[2]subtração', '[3]multiplicação','[4]divisão')\n",
    "escolha = input('Digite a opção (1,2,3,4):')\n",
    "\n",
    "a = int(input(\"Digite o primeiro número:\"))\n",
    "b = int(input(\"Digite o segundo número:\"))\n",
    "\n",
    "def soma (a,b):\n",
    "\treturn a + b\n",
    "def subtração(a,b):\n",
    "\treturn a - b\n",
    "def multiplicação (a,b):\n",
    "\treturn a * b\n",
    "def divisão (a,b):\n",
    "\treturn a / b\n",
    "\n",
    "if escolha =='1':\n",
    "\tprint (a+b)\n",
    "\n",
    "elif escolha =='2':\n",
    "\tprint (a-b)\n",
    "\n",
    "elif escolha =='3':\n",
    "    print (a*b)\n",
    "\n",
    "elif escolha =='4':\n",
    "    print (a/b)\n",
    "    \n",
    "else:\n",
    "    print ('você não escolheu uma opção entre 1 e 4. Refaça a operação')"
   ]
  }
 ],
 "metadata": {
  "kernelspec": {
   "display_name": "Python 3 (ipykernel)",
   "language": "python",
   "name": "python3"
  },
  "language_info": {
   "codemirror_mode": {
    "name": "ipython",
    "version": 3
   },
   "file_extension": ".py",
   "mimetype": "text/x-python",
   "name": "python",
   "nbconvert_exporter": "python",
   "pygments_lexer": "ipython3",
   "version": "3.9.12"
  }
 },
 "nbformat": 4,
 "nbformat_minor": 5
}
